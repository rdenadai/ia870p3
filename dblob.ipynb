{
 "cells": [
  {
   "cell_type": "markdown",
   "metadata": {},
   "source": [
    "# dblob\n",
    "Demonstrate blob measurements and display."
   ]
  },
  {
   "cell_type": "markdown",
   "metadata": {},
   "source": [
    "## Description\n",
    "\n",
    "In this example, a binary image with many blobs is processed. The objective is to measure the area of each blob. First the blobs are labeled. To display the correspondent label number of each blob, a trick is used to dilate each labeled centroid by a structuring element formed by the number of the blob label. At final, the area of each blob is plotted against its label number."
   ]
  },
  {
   "cell_type": "code",
   "execution_count": 1,
   "metadata": {
    "ExecuteTime": {
     "end_time": "2019-01-25T11:40:14.101025Z",
     "start_time": "2019-01-25T11:40:13.716158Z"
    }
   },
   "outputs": [],
   "source": [
    "import numpy as np\n",
    "from PIL import Image\n",
    "import ia870 as ia"
   ]
  },
  {
   "cell_type": "markdown",
   "metadata": {},
   "source": [
    "## Image reading and labeling\n",
    "\n",
    "The binary image is read and then labeled. The number of blobs is measured as the maximum label value. Both images are displayed. "
   ]
  },
  {
   "cell_type": "code",
   "execution_count": 2,
   "metadata": {
    "ExecuteTime": {
     "end_time": "2019-01-25T11:40:14.119720Z",
     "start_time": "2019-01-25T11:40:14.104083Z"
    }
   },
   "outputs": [
    {
     "data": {
      "image/png": "[encoded data removed]",
      "text/plain": [
       "<PIL.TiffImagePlugin.TiffImageFile image mode=1 size=128x128 at 0x7F3D7CAC0128>"
      ]
     },
     "execution_count": 2,
     "metadata": {},
     "output_type": "execute_result"
    }
   ],
   "source": [
    "f_pil = Image.open('data/blob3.tif')\n",
    "f_pil"
   ]
  },
  {
   "cell_type": "code",
   "execution_count": 3,
   "metadata": {
    "ExecuteTime": {
     "end_time": "2019-01-25T11:40:14.219055Z",
     "start_time": "2019-01-25T11:40:14.122243Z"
    }
   },
   "outputs": [
    {
     "name": "stdout",
     "output_type": "stream",
     "text": [
      "18\n"
     ]
    }
   ],
   "source": [
    "f = np.array(f_pil) > 0\n",
    "fr = ia.ialabel(f);\n",
    "nblobs=ia.iastats(fr,'max')\n",
    "print(nblobs)"
   ]
  },
  {
   "cell_type": "code",
   "execution_count": 4,
   "metadata": {
    "ExecuteTime": {
     "end_time": "2019-01-25T11:40:14.264342Z",
     "start_time": "2019-01-25T11:40:14.220550Z"
    }
   },
   "outputs": [
    {
     "data": {
      "image/png": "[encoded data removed]",
      "text/plain": [
       "<PIL.Image.Image image mode=RGB size=128x128 at 0x7F3D7CA53588>"
      ]
     },
     "execution_count": 4,
     "metadata": {},
     "output_type": "execute_result"
    }
   ],
   "source": [
    "Image.fromarray(ia.iaglblshow(fr,'border').transpose(1, 2 ,0))"
   ]
  },
  {
   "cell_type": "markdown",
   "metadata": {},
   "source": [
    "## Centroids\n",
    "The centroids are computed from the labeled image. After, the centroid image is labeled, so that each centroid point has a label value varying from 1 to the maximum number of blobs. For display illustration, the centroids are overlayed on the original blob image on the left and the labeled centroids are enlarged and displayed on the right. "
   ]
  },
  {
   "cell_type": "code",
   "execution_count": 5,
   "metadata": {
    "ExecuteTime": {
     "end_time": "2019-01-25T11:40:14.347843Z",
     "start_time": "2019-01-25T11:40:14.265751Z"
    }
   },
   "outputs": [
    {
     "data": {
      "image/png": "[encoded data removed]",
      "text/plain": [
       "<PIL.Image.Image image mode=RGB size=128x128 at 0x7F3D7CA53A58>"
      ]
     },
     "execution_count": 5,
     "metadata": {},
     "output_type": "execute_result"
    }
   ],
   "source": [
    "c = ia.iablob(fr,'centroid') # boolean image\n",
    "cr = ia.ialabel(c)\n",
    "Image.fromarray(ia.iagshow(f,c).transpose(1, 2 ,0))"
   ]
  },
  {
   "cell_type": "code",
   "execution_count": 6,
   "metadata": {
    "ExecuteTime": {
     "end_time": "2019-01-25T11:40:14.416579Z",
     "start_time": "2019-01-25T11:40:14.349099Z"
    }
   },
   "outputs": [
    {
     "data": {
      "image/png": "[encoded data removed]",
      "text/plain": [
       "<PIL.Image.Image image mode=RGB size=128x128 at 0x7F3D7CA53860>"
      ]
     },
     "execution_count": 6,
     "metadata": {},
     "output_type": "execute_result"
    }
   ],
   "source": [
    "Image.fromarray(ia.iaglblshow(ia.iadil(cr)).transpose(1, 2, 0))"
   ]
  },
  {
   "cell_type": "markdown",
   "metadata": {
    "ExecuteTime": {
     "end_time": "2018-12-25T13:23:55.599876Z",
     "start_time": "2018-12-25T13:23:55.596024Z"
    }
   },
   "source": [
    "## Placing a number on a particular blob"
   ]
  },
  {
   "cell_type": "code",
   "execution_count": 7,
   "metadata": {
    "ExecuteTime": {
     "end_time": "2019-01-25T11:40:14.546465Z",
     "start_time": "2019-01-25T11:40:14.418050Z"
    }
   },
   "outputs": [],
   "source": [
    "fbin=ia.iacmp(cr,'==',np.uint16(5))\n",
    "#print(f5)\n",
    "f5 = ia.iatext('5')\n",
    "b5 = ia.iaimg2se(f5)\n",
    "fb5 = ia.iadil(fbin, b5)"
   ]
  },
  {
   "cell_type": "code",
   "execution_count": 8,
   "metadata": {
    "ExecuteTime": {
     "end_time": "2019-01-25T11:40:14.640750Z",
     "start_time": "2019-01-25T11:40:14.547750Z"
    }
   },
   "outputs": [
    {
     "data": {
      "image/png": "[encoded data removed]",
      "text/plain": [
       "<PIL.Image.Image image mode=L size=128x128 at 0x7F3D7CA53A20>"
      ]
     },
     "execution_count": 8,
     "metadata": {},
     "output_type": "execute_result"
    }
   ],
   "source": [
    "#Temp = ia.iadil(fbin)\n",
    "#Temp = Temp.astype(np.uint8)*255\n",
    "#print(type(Temp))\n",
    "#Image.fromarray(ia.iagshow(Temp))\n",
    "#mmshow(f,fb5);\n",
    "Image.fromarray(ia.iadil(fbin).astype(np.uint8)*255)"
   ]
  },
  {
   "cell_type": "code",
   "execution_count": 9,
   "metadata": {
    "ExecuteTime": {
     "end_time": "2019-01-25T11:40:14.735734Z",
     "start_time": "2019-01-25T11:40:14.642170Z"
    }
   },
   "outputs": [
    {
     "data": {
      "image/png": "[encoded data removed]",
      "text/plain": [
       "<PIL.Image.Image image mode=RGB size=128x128 at 0x7F3D7CA53DD8>"
      ]
     },
     "execution_count": 9,
     "metadata": {},
     "output_type": "execute_result"
    }
   ],
   "source": [
    "Image.fromarray(ia.iagshow(f.astype(np.uint8)*255, fb5).transpose(1, 2, 0))"
   ]
  },
  {
   "cell_type": "markdown",
   "metadata": {
    "ExecuteTime": {
     "end_time": "2018-12-25T13:25:10.188664Z",
     "start_time": "2018-12-25T13:25:10.181335Z"
    }
   },
   "source": [
    "## Placing a label number to each labeled blob\n",
    "To automate the process just described, a loop scans every label value and stamp its number in a final image.\n",
    "The stamps are accumulated with the mmunion function. The area is computed and plotted against each label blob number. "
   ]
  },
  {
   "cell_type": "code",
   "execution_count": 10,
   "metadata": {
    "ExecuteTime": {
     "end_time": "2019-01-25T11:40:14.897289Z",
     "start_time": "2019-01-25T11:40:14.737301Z"
    }
   },
   "outputs": [
    {
     "data": {
      "image/png": "[encoded data removed]",
      "text/plain": [
       "<PIL.Image.Image image mode=RGB size=128x128 at 0x7F3D7C9F8860>"
      ]
     },
     "execution_count": 10,
     "metadata": {},
     "output_type": "execute_result"
    }
   ],
   "source": [
    "facc=ia.iasubm(f,f);\n",
    "for i in range(1,nblobs+1):\n",
    "    fbin = cr == i\n",
    "    fi   = ia.iatext(str(i))\n",
    "    bi   = ia.iaimg2se(fi)\n",
    "    fbi  = ia.iadil(fbin,bi)\n",
    "    facc = ia.iaunion(facc,fbi)\n",
    "Image.fromarray(ia.iagshow(f.astype(np.uint8)*255, facc).transpose(1, 2, 0))"
   ]
  },
  {
   "cell_type": "code",
   "execution_count": 11,
   "metadata": {
    "ExecuteTime": {
     "end_time": "2019-01-25T11:40:14.908234Z",
     "start_time": "2019-01-25T11:40:14.898565Z"
    }
   },
   "outputs": [],
   "source": [
    "darea = ia.iablob(fr,'area','data')"
   ]
  },
  {
   "cell_type": "code",
   "execution_count": 12,
   "metadata": {
    "ExecuteTime": {
     "end_time": "2019-01-25T11:40:15.323862Z",
     "start_time": "2019-01-25T11:40:14.909820Z"
    }
   },
   "outputs": [
    {
     "data": {
      "text/plain": [
       "<BarContainer object of 18 artists>"
      ]
     },
     "execution_count": 12,
     "metadata": {},
     "output_type": "execute_result"
    },
    {
     "data": {
      "image/png": "[encoded data removed]",
      "text/plain": [
       "<Figure size 432x288 with 1 Axes>"
      ]
     },
     "metadata": {},
     "output_type": "display_data"
    }
   ],
   "source": [
    "%matplotlib inline\n",
    "import matplotlib.pyplot as plt\n",
    "plt.bar(np.arange(nblobs)+1,darea)"
   ]
  },
  {
   "cell_type": "code",
   "execution_count": 13,
   "metadata": {},
   "outputs": [],
   "source": []
  }
 ],
 "metadata": {
  "hide_input": false,
  "kernelspec": {
   "display_name": "Python 3",
   "language": "python",
   "name": "python3"
  },
  "language_info": {
   "codemirror_mode": {
    "name": "ipython",
    "version": 3
   },
   "file_extension": ".py",
   "mimetype": "text/x-python",
   "name": "python",
   "nbconvert_exporter": "python",
   "pygments_lexer": "ipython3",
   "version": "3.7.2"
  },
  "toc": {
   "base_numbering": 1,
   "colors": {
    "hover_highlight": "#DAA520",
    "navigate_num": "#000000",
    "navigate_text": "#333333",
    "running_highlight": "#FF0000",
    "selected_highlight": "#FFD700",
    "sidebar_border": "#EEEEEE",
    "wrapper_background": "#FFFFFF"
   },
   "moveMenuLeft": true,
   "nav_menu": {},
   "navigate_menu": true,
   "number_sections": true,
   "sideBar": true,
   "skip_h1_title": false,
   "threshold": 4,
   "title_cell": "Table of Contents",
   "title_sidebar": "Contents",
   "toc_cell": false,
   "toc_position": {},
   "toc_section_display": true,
   "toc_window_display": false,
   "widenNotebook": false
  }
 },
 "nbformat": 4,
 "nbformat_minor": 2
}
