{
 "cells": [
  {
   "cell_type": "markdown",
   "metadata": {},
   "source": [
    "# Distance Transform"
   ]
  },
  {
   "cell_type": "code",
   "execution_count": 1,
   "metadata": {
    "ExecuteTime": {
     "end_time": "2018-11-18T18:54:58.907524Z",
     "start_time": "2018-11-18T18:54:58.751934Z"
    }
   },
   "outputs": [],
   "source": [
    "import numpy as np\n",
    "import ia870 as mm\n",
    "from PIL import Image"
   ]
  },
  {
   "cell_type": "code",
   "execution_count": 2,
   "metadata": {
    "ExecuteTime": {
     "end_time": "2018-11-18T18:54:58.942080Z",
     "start_time": "2018-11-18T18:54:58.910395Z"
    }
   },
   "outputs": [
    {
     "name": "stdout",
     "output_type": "stream",
     "text": [
      "a:\n",
      " [[ True  True  True  True  True  True  True  True  True]\n",
      " [ True  True  True  True  True  True  True  True  True]\n",
      " [ True  True  True  True False  True  True  True  True]\n",
      " [ True  True  True  True  True  True  True  True  True]\n",
      " [ True  True  True  True  True  True  True  True  True]]\n",
      "f4:\n",
      " [[6 5 4 3 2 3 4 5 6]\n",
      " [5 4 3 2 1 2 3 4 5]\n",
      " [4 3 2 1 0 1 2 3 4]\n",
      " [5 4 3 2 1 2 3 4 5]\n",
      " [6 5 4 3 2 3 4 5 6]]\n",
      "f8:\n",
      " [[4 3 2 2 2 2 2 3 4]\n",
      " [4 3 2 1 1 1 2 3 4]\n",
      " [4 3 2 1 0 1 2 3 4]\n",
      " [4 3 2 1 1 1 2 3 4]\n",
      " [4 3 2 2 2 2 2 3 4]]\n",
      "fe:\n",
      " [[4 4 3 2 2 2 3 4 4]\n",
      " [4 3 2 1 1 1 2 3 4]\n",
      " [4 3 2 1 0 1 2 3 4]\n",
      " [4 3 2 1 1 1 2 3 4]\n",
      " [4 4 3 2 2 2 3 4 4]]\n"
     ]
    }
   ],
   "source": [
    "a = mm.iaframe( np.ones((5,9),bool),WT=4,HT=2)\n",
    "f4 = mm.iadist(a)\n",
    "f8 = mm.iadist(a, mm.iasebox())\n",
    "fe = mm.iadist(a, mm.iasebox(),'EUCLIDEAN')\n",
    "print('a:\\n',   a)\n",
    "print('f4:\\n', f4)\n",
    "print('f8:\\n', f8)\n",
    "print('fe:\\n', fe)"
   ]
  },
  {
   "cell_type": "code",
   "execution_count": 3,
   "metadata": {
    "ExecuteTime": {
     "end_time": "2018-11-18T18:59:55.947384Z",
     "start_time": "2018-11-18T18:59:55.926478Z"
    }
   },
   "outputs": [
    {
     "data": {
      "image/png": "[encoded data removed]",
      "text/plain": [
       "<PIL.TiffImagePlugin.TiffImageFile image mode=L size=139x135 at 0x7F6C680349E8>"
      ]
     },
     "execution_count": 3,
     "metadata": {},
     "output_type": "execute_result"
    }
   ],
   "source": [
    "f_pil = Image.open('data/gear.tif')\n",
    "f_pil"
   ]
  },
  {
   "cell_type": "code",
   "execution_count": 4,
   "metadata": {
    "ExecuteTime": {
     "end_time": "2018-11-18T19:01:53.450151Z",
     "start_time": "2018-11-18T19:01:53.440651Z"
    }
   },
   "outputs": [
    {
     "data": {
      "image/png": "[encoded data removed]",
      "text/plain": [
       "<PIL.Image.Image image mode=L size=139x135 at 0x7F6C5B5DCA58>"
      ]
     },
     "execution_count": 4,
     "metadata": {},
     "output_type": "execute_result"
    }
   ],
   "source": [
    "f = np.array(f_pil)\n",
    "fn = mm.ianeg( mm.iagradm(f>0))\n",
    "Image.fromarray(fn.astype(np.uint8)*255)"
   ]
  },
  {
   "cell_type": "markdown",
   "metadata": {},
   "source": [
    "## City-block distance"
   ]
  },
  {
   "cell_type": "code",
   "execution_count": 5,
   "metadata": {
    "ExecuteTime": {
     "end_time": "2018-11-18T19:13:28.017188Z",
     "start_time": "2018-11-18T19:13:27.887107Z"
    }
   },
   "outputs": [
    {
     "data": {
      "image/png": "[encoded data removed]",
      "text/plain": [
       "<PIL.Image.Image image mode=L size=139x135 at 0x7F6C5B5DC828>"
      ]
     },
     "execution_count": 5,
     "metadata": {},
     "output_type": "execute_result"
    }
   ],
   "source": [
    "d4 = mm.iadist(fn)\n",
    "Image.fromarray((d4 * 255 / d4.max()).astype(np.uint8))"
   ]
  },
  {
   "cell_type": "markdown",
   "metadata": {
    "ExecuteTime": {
     "end_time": "2018-11-18T19:14:27.758018Z",
     "start_time": "2018-11-18T19:14:27.752527Z"
    }
   },
   "source": [
    "## Chessboard distance"
   ]
  },
  {
   "cell_type": "code",
   "execution_count": 6,
   "metadata": {
    "ExecuteTime": {
     "end_time": "2018-11-18T19:15:04.812704Z",
     "start_time": "2018-11-18T19:15:04.704288Z"
    }
   },
   "outputs": [
    {
     "data": {
      "image/png": "[encoded data removed]",
      "text/plain": [
       "<PIL.Image.Image image mode=L size=139x135 at 0x7F6C5B5DCBA8>"
      ]
     },
     "execution_count": 6,
     "metadata": {},
     "output_type": "execute_result"
    }
   ],
   "source": [
    "d8 = mm.iadist(f, mm.iasebox())\n",
    "Image.fromarray((d8 * 255 / d8.max()).astype(np.uint8))"
   ]
  },
  {
   "cell_type": "markdown",
   "metadata": {},
   "source": [
    "## Euclidean distance"
   ]
  },
  {
   "cell_type": "code",
   "execution_count": 7,
   "metadata": {
    "ExecuteTime": {
     "end_time": "2018-11-18T19:15:35.123203Z",
     "start_time": "2018-11-18T19:15:34.997624Z"
    }
   },
   "outputs": [
    {
     "data": {
      "image/png": "[encoded data removed]",
      "text/plain": [
       "<PIL.Image.Image image mode=L size=139x135 at 0x7F6C5B5DCC88>"
      ]
     },
     "execution_count": 7,
     "metadata": {},
     "output_type": "execute_result"
    }
   ],
   "source": [
    "de = mm.iadist(f, mm.iasebox(),'EUCLIDEAN')\n",
    "Image.fromarray((de * 255 / de.max()).astype(np.uint8))"
   ]
  },
  {
   "cell_type": "code",
   "execution_count": 8,
   "metadata": {},
   "outputs": [],
   "source": []
  }
 ],
 "metadata": {
  "kernelspec": {
   "display_name": "Python 3",
   "language": "python",
   "name": "python3"
  },
  "language_info": {
   "codemirror_mode": {
    "name": "ipython",
    "version": 3
   },
   "file_extension": ".py",
   "mimetype": "text/x-python",
   "name": "python",
   "nbconvert_exporter": "python",
   "pygments_lexer": "ipython3",
   "version": "3.6.5"
  },
  "toc": {
   "base_numbering": 1,
   "nav_menu": {},
   "number_sections": true,
   "sideBar": true,
   "skip_h1_title": false,
   "title_cell": "Table of Contents",
   "title_sidebar": "Contents",
   "toc_cell": false,
   "toc_position": {},
   "toc_section_display": true,
   "toc_window_display": false
  }
 },
 "nbformat": 4,
 "nbformat_minor": 2
}
