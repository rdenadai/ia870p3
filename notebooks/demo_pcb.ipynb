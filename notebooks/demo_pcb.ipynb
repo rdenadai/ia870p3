{
 "cells": [
  {
   "cell_type": "markdown",
   "metadata": {},
   "source": [
    "# demo_pcb - Decompose a printed circuit board in its main parts."
   ]
  },
  {
   "cell_type": "markdown",
   "metadata": {},
   "source": [
    "The input image is a binary image of a printed circuit board. The decomposition is created mainly using openings by structural elements that depends on the geometry of the circuit board."
   ]
  },
  {
   "cell_type": "code",
   "execution_count": 1,
   "metadata": {
    "ExecuteTime": {
     "end_time": "2018-12-16T17:47:05.129030Z",
     "start_time": "2018-12-16T17:47:04.956028Z"
    }
   },
   "outputs": [],
   "source": [
    "import numpy as np\n",
    "from PIL import Image "
   ]
  },
  {
   "cell_type": "markdown",
   "metadata": {},
   "source": [
    "## Reading\n",
    "The binary image of a printed circuit board is read."
   ]
  },
  {
   "cell_type": "code",
   "execution_count": 2,
   "metadata": {
    "ExecuteTime": {
     "end_time": "2018-12-16T17:47:05.181189Z",
     "start_time": "2018-12-16T17:47:05.132284Z"
    }
   },
   "outputs": [
    {
     "data": {
      "image/png": "[encoded data removed]",
      "text/plain": [
       "<PIL.TiffImagePlugin.TiffImageFile image mode=1 size=258x258 at 0x7F18E8138B38>"
      ]
     },
     "execution_count": 2,
     "metadata": {},
     "output_type": "execute_result"
    }
   ],
   "source": [
    "a_pil = Image.open('../data/pcb1bin.tif')\n",
    "a_pil"
   ]
  },
  {
   "cell_type": "markdown",
   "metadata": {},
   "source": [
    "## Detecting holes\n",
    "A new image is created by filling the holes. The input image is subtracted from this new image with holes. The resulting residues are the holes.\n"
   ]
  },
  {
   "cell_type": "code",
   "execution_count": 3,
   "metadata": {
    "ExecuteTime": {
     "end_time": "2018-12-16T17:47:05.338349Z",
     "start_time": "2018-12-16T17:47:05.192318Z"
    }
   },
   "outputs": [],
   "source": [
    "from ia870 import iaclohole, iasubm, iagshow"
   ]
  },
  {
   "cell_type": "code",
   "execution_count": 4,
   "metadata": {
    "ExecuteTime": {
     "end_time": "2018-12-16T17:47:06.259700Z",
     "start_time": "2018-12-16T17:47:05.344901Z"
    }
   },
   "outputs": [
    {
     "data": {
      "image/png": "[encoded data removed]",
      "text/plain": [
       "<PIL.Image.Image image mode=L size=258x258 at 0x7F18DCEC8160>"
      ]
     },
     "execution_count": 4,
     "metadata": {},
     "output_type": "execute_result"
    }
   ],
   "source": [
    "a = np.array(a_pil)\n",
    "b = iaclohole(a)\n",
    "Image.fromarray(b.astype(np.uint8)*255)"
   ]
  },
  {
   "cell_type": "code",
   "execution_count": 5,
   "metadata": {
    "ExecuteTime": {
     "end_time": "2018-12-16T17:47:06.277495Z",
     "start_time": "2018-12-16T17:47:06.262446Z"
    }
   },
   "outputs": [
    {
     "data": {
      "image/png": "[encoded data removed]",
      "text/plain": [
       "<PIL.Image.Image image mode=RGB size=258x258 at 0x7F18DCEC8320>"
      ]
     },
     "execution_count": 5,
     "metadata": {},
     "output_type": "execute_result"
    }
   ],
   "source": [
    "holes = iasubm(b,a)\n",
    "Image.fromarray(iagshow(a, holes).transpose(1,2,0))"
   ]
  },
  {
   "cell_type": "markdown",
   "metadata": {},
   "source": [
    "## Detecting square islands\n",
    "The square islands are detected using an opening by a square of size 17x17."
   ]
  },
  {
   "cell_type": "code",
   "execution_count": 6,
   "metadata": {
    "ExecuteTime": {
     "end_time": "2018-12-16T17:47:06.284418Z",
     "start_time": "2018-12-16T17:47:06.280464Z"
    }
   },
   "outputs": [],
   "source": [
    "from ia870 import iaopen, iasebox, iacdil"
   ]
  },
  {
   "cell_type": "code",
   "execution_count": 7,
   "metadata": {
    "ExecuteTime": {
     "end_time": "2018-12-16T17:47:06.362999Z",
     "start_time": "2018-12-16T17:47:06.288066Z"
    }
   },
   "outputs": [
    {
     "data": {
      "image/png": "[encoded data removed]",
      "text/plain": [
       "<PIL.Image.Image image mode=RGB size=258x258 at 0x7F18DCEC8898>"
      ]
     },
     "execution_count": 7,
     "metadata": {},
     "output_type": "execute_result"
    }
   ],
   "source": [
    "c = iaopen(b,iasebox(8))\n",
    "Image.fromarray(iagshow(b, c).transpose(1,2,0))"
   ]
  },
  {
   "cell_type": "code",
   "execution_count": 8,
   "metadata": {
    "ExecuteTime": {
     "end_time": "2018-12-16T17:47:06.399796Z",
     "start_time": "2018-12-16T17:47:06.370877Z"
    }
   },
   "outputs": [
    {
     "data": {
      "image/png": "[encoded data removed]",
      "text/plain": [
       "<PIL.Image.Image image mode=RGB size=258x258 at 0x7F18DCEC8A90>"
      ]
     },
     "execution_count": 8,
     "metadata": {},
     "output_type": "execute_result"
    }
   ],
   "source": [
    "square = iacdil(c, a)\n",
    "Image.fromarray(iagshow(holes, square).transpose(1,2,0))"
   ]
  },
  {
   "cell_type": "markdown",
   "metadata": {},
   "source": [
    "## Detecting circle islands\n",
    "The circle islands are detected using an opening by an Euclidean disk on a residues image."
   ]
  },
  {
   "cell_type": "code",
   "execution_count": 9,
   "metadata": {
    "ExecuteTime": {
     "end_time": "2018-12-16T17:47:06.413189Z",
     "start_time": "2018-12-16T17:47:06.403435Z"
    }
   },
   "outputs": [],
   "source": [
    "from ia870 import iasedisk"
   ]
  },
  {
   "cell_type": "code",
   "execution_count": 10,
   "metadata": {
    "ExecuteTime": {
     "end_time": "2018-12-16T17:47:06.479127Z",
     "start_time": "2018-12-16T17:47:06.416986Z"
    }
   },
   "outputs": [
    {
     "data": {
      "image/png": "[encoded data removed]",
      "text/plain": [
       "<PIL.Image.Image image mode=RGB size=258x258 at 0x7F18DCECE0B8>"
      ]
     },
     "execution_count": 10,
     "metadata": {},
     "output_type": "execute_result"
    }
   ],
   "source": [
    "f = iasubm(b, c)\n",
    "g = iaopen(f, iasedisk(8))\n",
    "Image.fromarray(iagshow(f, g).transpose(1,2,0))"
   ]
  },
  {
   "cell_type": "code",
   "execution_count": 11,
   "metadata": {
    "ExecuteTime": {
     "end_time": "2018-12-16T17:47:06.504655Z",
     "start_time": "2018-12-16T17:47:06.483338Z"
    }
   },
   "outputs": [
    {
     "data": {
      "image/png": "[encoded data removed]",
      "text/plain": [
       "<PIL.Image.Image image mode=RGB size=258x258 at 0x7F18DCECE1D0>"
      ]
     },
     "execution_count": 11,
     "metadata": {},
     "output_type": "execute_result"
    }
   ],
   "source": [
    "circle = iacdil(g,a)\n",
    "Image.fromarray(iagshow(holes, square, circle).transpose(1,2,0))"
   ]
  },
  {
   "cell_type": "markdown",
   "metadata": {},
   "source": [
    "## Detecting rectangular islands\n",
    "The rectangular islands are detected using an opening by a rectangle of size 25 x 8 on a residues image. The rectangle structuring element is built from the composition of vertical and horizontal lines."
   ]
  },
  {
   "cell_type": "code",
   "execution_count": 12,
   "metadata": {
    "ExecuteTime": {
     "end_time": "2018-12-16T17:47:06.515388Z",
     "start_time": "2018-12-16T17:47:06.510466Z"
    }
   },
   "outputs": [],
   "source": [
    "from ia870 import iasedil\n",
    "from ia870 import iaseline"
   ]
  },
  {
   "cell_type": "code",
   "execution_count": 13,
   "metadata": {
    "ExecuteTime": {
     "end_time": "2018-12-16T17:47:06.677444Z",
     "start_time": "2018-12-16T17:47:06.521219Z"
    }
   },
   "outputs": [
    {
     "data": {
      "image/png": "[encoded data removed]",
      "text/plain": [
       "<PIL.Image.Image image mode=RGB size=258x258 at 0x7F18DCEC83C8>"
      ]
     },
     "execution_count": 13,
     "metadata": {},
     "output_type": "execute_result"
    }
   ],
   "source": [
    "i = iasubm(f, g)\n",
    "m = iaopen(i,iasedil( iaseline(8,90), iaseline(25)))\n",
    "Image.fromarray(iagshow(i,m).transpose(1,2,0))"
   ]
  },
  {
   "cell_type": "code",
   "execution_count": 14,
   "metadata": {
    "ExecuteTime": {
     "end_time": "2018-12-16T17:47:52.729745Z",
     "start_time": "2018-12-16T17:47:52.710766Z"
    }
   },
   "outputs": [
    {
     "data": {
      "image/png": "[encoded data removed]",
      "text/plain": [
       "<PIL.Image.Image image mode=RGB size=258x258 at 0x7F18DCEC8828>"
      ]
     },
     "execution_count": 14,
     "metadata": {},
     "output_type": "execute_result"
    }
   ],
   "source": [
    "rect = iacdil(m,a)\n",
    "Image.fromarray(iagshow(holes, square, circle, rect).transpose(1,2,0))"
   ]
  },
  {
   "cell_type": "markdown",
   "metadata": {},
   "source": [
    "## Detecting thick connections\n",
    "The thick connections are detected using an opening by a square on a residues image."
   ]
  },
  {
   "cell_type": "code",
   "execution_count": 15,
   "metadata": {
    "ExecuteTime": {
     "end_time": "2018-12-16T17:48:47.767966Z",
     "start_time": "2018-12-16T17:48:47.745038Z"
    }
   },
   "outputs": [
    {
     "data": {
      "image/png": "[encoded data removed]",
      "text/plain": [
       "<PIL.Image.Image image mode=RGB size=258x258 at 0x7F18E806AB70>"
      ]
     },
     "execution_count": 15,
     "metadata": {},
     "output_type": "execute_result"
    }
   ],
   "source": [
    "o = iasubm(i,m)\n",
    "p = iaopen(o, iasebox(2))\n",
    "Image.fromarray(iagshow(o, p).transpose(1,2,0))"
   ]
  },
  {
   "cell_type": "code",
   "execution_count": 16,
   "metadata": {
    "ExecuteTime": {
     "end_time": "2018-12-16T17:49:15.220235Z",
     "start_time": "2018-12-16T17:49:15.202371Z"
    }
   },
   "outputs": [
    {
     "data": {
      "image/png": "[encoded data removed]",
      "text/plain": [
       "<PIL.Image.Image image mode=RGB size=258x258 at 0x7F18E806A940>"
      ]
     },
     "execution_count": 16,
     "metadata": {},
     "output_type": "execute_result"
    }
   ],
   "source": [
    "thin = iacdil(p,a)\n",
    "Image.fromarray(iagshow(holes, square, circle, rect, thin).transpose(1,2,0))"
   ]
  },
  {
   "cell_type": "markdown",
   "metadata": {},
   "source": [
    "## Detecting thin connections\n",
    "The thin connections are detected using an opening by a square on a residues image."
   ]
  },
  {
   "cell_type": "code",
   "execution_count": 17,
   "metadata": {
    "ExecuteTime": {
     "end_time": "2018-12-16T17:50:03.711075Z",
     "start_time": "2018-12-16T17:50:03.692198Z"
    }
   },
   "outputs": [
    {
     "data": {
      "image/png": "[encoded data removed]",
      "text/plain": [
       "<PIL.Image.Image image mode=RGB size=258x258 at 0x7F18DCECE080>"
      ]
     },
     "execution_count": 17,
     "metadata": {},
     "output_type": "execute_result"
    }
   ],
   "source": [
    "r = iasubm(o,p)\n",
    "s = iaopen(r, iasebox())\n",
    "Image.fromarray(iagshow(r, s).transpose(1,2,0))"
   ]
  },
  {
   "cell_type": "code",
   "execution_count": 18,
   "metadata": {
    "ExecuteTime": {
     "end_time": "2018-12-16T17:50:31.532696Z",
     "start_time": "2018-12-16T17:50:31.514748Z"
    }
   },
   "outputs": [
    {
     "data": {
      "image/png": "[encoded data removed]",
      "text/plain": [
       "<PIL.Image.Image image mode=RGB size=258x258 at 0x7F18DCECE400>"
      ]
     },
     "execution_count": 18,
     "metadata": {},
     "output_type": "execute_result"
    }
   ],
   "source": [
    "thick = iacdil(s,a)\n",
    "Image.fromarray(iagshow(holes, square, circle, rect, thin, thick).transpose(1,2,0))"
   ]
  },
  {
   "cell_type": "markdown",
   "metadata": {},
   "source": [
    "## Displaying all together\n",
    "The main components of the circuit are overlayed and presented in a single image."
   ]
  },
  {
   "cell_type": "code",
   "execution_count": 19,
   "metadata": {
    "ExecuteTime": {
     "end_time": "2018-12-16T17:51:16.057563Z",
     "start_time": "2018-12-16T17:51:16.040504Z"
    }
   },
   "outputs": [
    {
     "data": {
      "image/png": "[encoded data removed]",
      "text/plain": [
       "<PIL.Image.Image image mode=RGB size=258x258 at 0x7F18DCECE518>"
      ]
     },
     "execution_count": 19,
     "metadata": {},
     "output_type": "execute_result"
    }
   ],
   "source": [
    "Image.fromarray(iagshow(holes, square, circle, rect, thin, thick).transpose(1,2,0))"
   ]
  }
 ],
 "metadata": {
  "hide_input": false,
  "kernelspec": {
   "display_name": "Python 3",
   "language": "python",
   "name": "python3"
  },
  "language_info": {
   "codemirror_mode": {
    "name": "ipython",
    "version": 3
   },
   "file_extension": ".py",
   "mimetype": "text/x-python",
   "name": "python",
   "nbconvert_exporter": "python",
   "pygments_lexer": "ipython3",
   "version": "3.7.2"
  },
  "toc": {
   "base_numbering": 1,
   "colors": {
    "hover_highlight": "#DAA520",
    "navigate_num": "#000000",
    "navigate_text": "#333333",
    "running_highlight": "#FF0000",
    "selected_highlight": "#FFD700",
    "sidebar_border": "#EEEEEE",
    "wrapper_background": "#FFFFFF"
   },
   "moveMenuLeft": true,
   "nav_menu": {},
   "navigate_menu": true,
   "number_sections": true,
   "sideBar": true,
   "skip_h1_title": false,
   "threshold": 4,
   "title_cell": "Table of Contents",
   "title_sidebar": "Contents",
   "toc_cell": false,
   "toc_position": {},
   "toc_section_display": true,
   "toc_window_display": false,
   "widenNotebook": false
  }
 },
 "nbformat": 4,
 "nbformat_minor": 2
}
