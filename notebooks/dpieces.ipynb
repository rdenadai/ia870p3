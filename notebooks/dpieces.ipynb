{
 "cells": [
  {
   "cell_type": "markdown",
   "metadata": {},
   "source": [
    "# mmdpieces\n",
    "Classify two dimensional pieces."
   ]
  },
  {
   "cell_type": "markdown",
   "metadata": {},
   "source": [
    "# Description\n",
    "\n",
    "The input image is a binary image typically found in industrial automation applications. It has three types of objects: rings, nails and T-pins. Our procedure for identification of these classes of objects is based on thickening, thinning and reconstruction.\n"
   ]
  },
  {
   "cell_type": "code",
   "execution_count": 1,
   "metadata": {
    "ExecuteTime": {
     "end_time": "2019-01-06T03:42:22.835503Z",
     "start_time": "2019-01-06T03:42:22.346928Z"
    }
   },
   "outputs": [
    {
     "name": "stdout",
     "output_type": "stream",
     "text": [
      "ia870 Python Morphology Toolbox version 0.8 25th Aug 2014 - in progress - migrating to Python 3\n"
     ]
    }
   ],
   "source": [
    "import numpy as np\n",
    "from PIL import Image\n",
    "import ia870 as ia\n",
    "import matplotlib.pyplot as plt\n",
    "print(ia.__version__)"
   ]
  },
  {
   "cell_type": "markdown",
   "metadata": {},
   "source": [
    "# Reading\n",
    "\n",
    "The gray scale image to be processed is read. "
   ]
  },
  {
   "cell_type": "code",
   "execution_count": 2,
   "metadata": {
    "ExecuteTime": {
     "end_time": "2019-01-06T03:42:23.203124Z",
     "start_time": "2019-01-06T03:42:22.838815Z"
    }
   },
   "outputs": [
    {
     "data": {
      "text/plain": [
       "(-0.5, 228.5, 206.5, -0.5)"
      ]
     },
     "execution_count": 2,
     "metadata": {},
     "output_type": "execute_result"
    },
    {
     "data": {
      "image/png": "[encoded data removed]",
      "text/plain": [
       "<Figure size 720x360 with 1 Axes>"
      ]
     },
     "metadata": {
      "needs_background": "light"
     },
     "output_type": "display_data"
    }
   ],
   "source": [
    "a_pil = Image.open('../data/pieces_bw.tif').convert('L')\n",
    "a = np.array (a_pil)\n",
    "a = a.astype(np.bool)\n",
    "\n",
    "(fig, axes) = plt.subplots(nrows=1, ncols=1,figsize=(10, 5))\n",
    "axes.set_title('a')\n",
    "axes.imshow(a, cmap='gray')\n",
    "axes.axis('off')"
   ]
  },
  {
   "cell_type": "markdown",
   "metadata": {},
   "source": [
    "# Contour noise reduction\n",
    "\n",
    "A thickening that preserves the number of connected objects is applied to reduce contour noise. "
   ]
  },
  {
   "cell_type": "code",
   "execution_count": 3,
   "metadata": {
    "ExecuteTime": {
     "end_time": "2019-01-06T03:42:23.473520Z",
     "start_time": "2019-01-06T03:42:23.206252Z"
    }
   },
   "outputs": [
    {
     "name": "stdout",
     "output_type": "stream",
     "text": [
      ".0.\n",
      "000\n",
      "...\n"
     ]
    },
    {
     "data": {
      "text/plain": [
       "(-0.5, 228.5, 206.5, -0.5)"
      ]
     },
     "execution_count": 3,
     "metadata": {},
     "output_type": "execute_result"
    },
    {
     "data": {
      "image/png": "[encoded data removed]",
      "text/plain": [
       "<Figure size 720x360 with 1 Axes>"
      ]
     },
     "metadata": {
      "needs_background": "light"
     },
     "output_type": "display_data"
    }
   ],
   "source": [
    "seA = ia.iaimg2se(ia.iabinary([[0,1,0],[1,0,1],[0,0,0]]))\n",
    "seB = ia.iaimg2se(ia.iabinary([[0,0,0],[0,1,0],[0,0,0]]))\n",
    "iAB = ia.iase2hmt(seA,seB)\n",
    "print(ia.iaintershow(iAB))\n",
    "\n",
    "b = ia.iathick(a, iAB);\n",
    "\n",
    "(fig, axes) = plt.subplots(nrows=1, ncols=1,figsize=(10, 5))\n",
    "axes.set_title('b')\n",
    "axes.imshow(b, cmap='gray')\n",
    "axes.axis('off')"
   ]
  },
  {
   "cell_type": "markdown",
   "metadata": {},
   "source": [
    "# Skeleton\n",
    "\n",
    "The homotopic skeleton by thinning is created.  "
   ]
  },
  {
   "cell_type": "code",
   "execution_count": 4,
   "metadata": {
    "ExecuteTime": {
     "end_time": "2019-01-06T03:42:23.720270Z",
     "start_time": "2019-01-06T03:42:23.477170Z"
    }
   },
   "outputs": [
    {
     "data": {
      "text/plain": [
       "(-0.5, 228.5, 206.5, -0.5)"
      ]
     },
     "execution_count": 4,
     "metadata": {},
     "output_type": "execute_result"
    },
    {
     "data": {
      "image/png": "[encoded data removed]",
      "text/plain": [
       "<Figure size 720x360 with 1 Axes>"
      ]
     },
     "metadata": {
      "needs_background": "light"
     },
     "output_type": "display_data"
    }
   ],
   "source": [
    "c = ia.iathin(b);\n",
    "\n",
    "(fig, axes) = plt.subplots(nrows=1, ncols=1,figsize=(10, 5))\n",
    "axes.set_title('c')\n",
    "axes.imshow(c, cmap='gray')\n",
    "axes.axis('off')"
   ]
  },
  {
   "cell_type": "markdown",
   "metadata": {},
   "source": [
    "# Skeleton pruning\n",
    "\n",
    "The open lines of the skeleton are pruned by the end point thinning. The remaining skeleton components will be loops, identifying the rings. "
   ]
  },
  {
   "cell_type": "code",
   "execution_count": 5,
   "metadata": {
    "ExecuteTime": {
     "end_time": "2019-01-06T03:42:24.254843Z",
     "start_time": "2019-01-06T03:42:23.725763Z"
    }
   },
   "outputs": [
    {
     "data": {
      "text/plain": [
       "(-0.5, 228.5, 206.5, -0.5)"
      ]
     },
     "execution_count": 5,
     "metadata": {},
     "output_type": "execute_result"
    },
    {
     "data": {
      "image/png": "[encoded data removed]",
      "text/plain": [
       "<Figure size 720x360 with 1 Axes>"
      ]
     },
     "metadata": {
      "needs_background": "light"
     },
     "output_type": "display_data"
    }
   ],
   "source": [
    "d = ia.iathin(c,ia.iaendpoints());\n",
    "\n",
    "(fig, axes) = plt.subplots(nrows=1, ncols=1,figsize=(10, 5))\n",
    "axes.set_title('c, d')\n",
    "axes.imshow(ia.iagshow(c, d).transpose(1, 2, 0))\n",
    "axes.axis('off')"
   ]
  },
  {
   "cell_type": "markdown",
   "metadata": {},
   "source": [
    "# Detect rings\n",
    "\n",
    "Extraction of the rings by reconstruction of the thicked image from the filtered skeleton. "
   ]
  },
  {
   "cell_type": "code",
   "execution_count": 6,
   "metadata": {
    "ExecuteTime": {
     "end_time": "2019-01-06T03:42:24.565797Z",
     "start_time": "2019-01-06T03:42:24.260373Z"
    }
   },
   "outputs": [
    {
     "data": {
      "text/plain": [
       "(-0.5, 228.5, 206.5, -0.5)"
      ]
     },
     "execution_count": 6,
     "metadata": {},
     "output_type": "execute_result"
    },
    {
     "data": {
      "image/png": "[encoded data removed]",
      "text/plain": [
       "<Figure size 720x360 with 1 Axes>"
      ]
     },
     "metadata": {
      "needs_background": "light"
     },
     "output_type": "display_data"
    }
   ],
   "source": [
    "e = ia.iainfrec(d,b)\n",
    "(fig, axes) = plt.subplots(nrows=1, ncols=1,figsize=(10, 5))\n",
    "axes.set_title('c, d')\n",
    "axes.imshow(e, cmap = 'gray')\n",
    "axes.axis('off')"
   ]
  },
  {
   "cell_type": "markdown",
   "metadata": {},
   "source": [
    "# Rings in the input image\n",
    "\n",
    "Restriction of the objects detected to the input-image. "
   ]
  },
  {
   "cell_type": "code",
   "execution_count": 7,
   "metadata": {
    "ExecuteTime": {
     "end_time": "2019-01-06T03:42:24.765863Z",
     "start_time": "2019-01-06T03:42:24.569565Z"
    }
   },
   "outputs": [
    {
     "data": {
      "text/plain": [
       "(-0.5, 228.5, 206.5, -0.5)"
      ]
     },
     "execution_count": 7,
     "metadata": {},
     "output_type": "execute_result"
    },
    {
     "data": {
      "image/png": "[encoded data removed]",
      "text/plain": [
       "<Figure size 720x360 with 1 Axes>"
      ]
     },
     "metadata": {
      "needs_background": "light"
     },
     "output_type": "display_data"
    }
   ],
   "source": [
    "f = ia.iaintersec(a,e)\n",
    "\n",
    "(fig, axes) = plt.subplots(nrows=1, ncols=1,figsize=(10, 5))\n",
    "axes.set_title('f')\n",
    "axes.imshow(f, cmap = 'gray')\n",
    "axes.axis('off')"
   ]
  },
  {
   "cell_type": "markdown",
   "metadata": {},
   "source": [
    "# Skeleton of the remaining objects\n",
    "\n",
    "It eliminates the skeleton of the rings. "
   ]
  },
  {
   "cell_type": "code",
   "execution_count": 8,
   "metadata": {
    "ExecuteTime": {
     "end_time": "2019-01-06T03:42:24.979909Z",
     "start_time": "2019-01-06T03:42:24.771124Z"
    }
   },
   "outputs": [
    {
     "data": {
      "text/plain": [
       "(-0.5, 228.5, 206.5, -0.5)"
      ]
     },
     "execution_count": 8,
     "metadata": {},
     "output_type": "execute_result"
    },
    {
     "data": {
      "image/png": "[encoded data removed]",
      "text/plain": [
       "<Figure size 720x360 with 1 Axes>"
      ]
     },
     "metadata": {
      "needs_background": "light"
     },
     "output_type": "display_data"
    }
   ],
   "source": [
    "g = ia.iasubm(c,e)\n",
    "\n",
    "(fig, axes) = plt.subplots(nrows=1, ncols=1,figsize=(10, 5))\n",
    "axes.set_title('g')\n",
    "axes.imshow(g, cmap = 'gray')\n",
    "axes.axis('off')"
   ]
  },
  {
   "cell_type": "markdown",
   "metadata": {},
   "source": [
    "# End points filtering\n",
    "\n",
    "It removes sucessively 4 end-points to let T junctions just on T-pins. "
   ]
  },
  {
   "cell_type": "code",
   "execution_count": 9,
   "metadata": {
    "ExecuteTime": {
     "end_time": "2019-01-06T03:42:25.208749Z",
     "start_time": "2019-01-06T03:42:24.983161Z"
    }
   },
   "outputs": [
    {
     "data": {
      "text/plain": [
       "(-0.5, 228.5, 206.5, -0.5)"
      ]
     },
     "execution_count": 9,
     "metadata": {},
     "output_type": "execute_result"
    },
    {
     "data": {
      "image/png": "[encoded data removed]",
      "text/plain": [
       "<Figure size 720x360 with 1 Axes>"
      ]
     },
     "metadata": {
      "needs_background": "light"
     },
     "output_type": "display_data"
    }
   ],
   "source": [
    "h = ia.iathin(g, ia.iaendpoints(), 4)\n",
    "\n",
    "(fig, axes) = plt.subplots(nrows=1, ncols=1,figsize=(10, 5))\n",
    "axes.set_title('h')\n",
    "axes.imshow(h, cmap = 'gray')\n",
    "axes.axis('off')"
   ]
  },
  {
   "cell_type": "markdown",
   "metadata": {},
   "source": [
    "# T-pins markers\n",
    "\n",
    "It detects triple points, applying the union of matchings with the template rotated 90 degrees. These points will identify (mark) the T-pins. "
   ]
  },
  {
   "cell_type": "code",
   "execution_count": 10,
   "metadata": {
    "ExecuteTime": {
     "end_time": "2019-01-06T03:42:25.444018Z",
     "start_time": "2019-01-06T03:42:25.215077Z"
    }
   },
   "outputs": [
    {
     "data": {
      "text/plain": [
       "(-0.5, 228.5, 206.5, -0.5)"
      ]
     },
     "execution_count": 10,
     "metadata": {},
     "output_type": "execute_result"
    },
    {
     "data": {
      "image/png": "[encoded data removed]",
      "text/plain": [
       "<Figure size 720x360 with 1 Axes>"
      ]
     },
     "metadata": {
      "needs_background": "light"
     },
     "output_type": "display_data"
    }
   ],
   "source": [
    "seA1 = ia.iaimg2se(ia.iabinary([[0,1,0],[0,1,0],[1,0,1]]))\n",
    "seB1 = ia.iaimg2se(ia.iabinary([[0,0,0],[1,0,1],[0,1,0]]))\n",
    "seA2 = ia.iaimg2se(ia.iabinary([[0,1,0],[1,1,1],[0,0,0]]))\n",
    "seB2 = ia.iaimg2se(ia.iabinary([[1,0,1],[0,0,0],[0,1,0]]))\n",
    "i1 = ia.iasupcanon(h, ia.iase2hmt(seA1,seB1))\n",
    "i2 = ia.iasupcanon(h, ia.iase2hmt(seA2,seB2))\n",
    "i = ia.iaunion(i1,i2)\n",
    "\n",
    "(fig, axes) = plt.subplots(nrows=1, ncols=1,figsize=(10, 5))\n",
    "axes.set_title('h, i')\n",
    "axes.imshow(ia.iagshow(h, ia.iadil(i, ia.iasedisk(2))).transpose(1, 2, 0))\n",
    "axes.axis('off')"
   ]
  },
  {
   "cell_type": "markdown",
   "metadata": {},
   "source": [
    "## Detect T-pins\n",
    "\n",
    "Detection of the T-pins by reconstruction of the ticked image from the T-pin markers. "
   ]
  },
  {
   "cell_type": "code",
   "execution_count": 11,
   "metadata": {
    "ExecuteTime": {
     "end_time": "2019-01-06T03:42:25.690515Z",
     "start_time": "2019-01-06T03:42:25.449123Z"
    }
   },
   "outputs": [
    {
     "data": {
      "text/plain": [
       "(-0.5, 228.5, 206.5, -0.5)"
      ]
     },
     "execution_count": 11,
     "metadata": {},
     "output_type": "execute_result"
    },
    {
     "data": {
      "image/png": "[encoded data removed]",
      "text/plain": [
       "<Figure size 720x360 with 1 Axes>"
      ]
     },
     "metadata": {
      "needs_background": "light"
     },
     "output_type": "display_data"
    }
   ],
   "source": [
    "j = ia.iainfrec(i,b,ia.iasebox())\n",
    "\n",
    "(fig, axes) = plt.subplots(nrows=1, ncols=1,figsize=(10, 5))\n",
    "axes.set_title('j')\n",
    "axes.imshow(j, cmap = 'gray')\n",
    "axes.axis('off')"
   ]
  },
  {
   "cell_type": "markdown",
   "metadata": {},
   "source": [
    "## T-pins in the input image\n",
    "\n",
    "Restriction of the objects detect to the input image"
   ]
  },
  {
   "cell_type": "code",
   "execution_count": 12,
   "metadata": {
    "ExecuteTime": {
     "end_time": "2019-01-06T03:42:25.874800Z",
     "start_time": "2019-01-06T03:42:25.694535Z"
    }
   },
   "outputs": [
    {
     "data": {
      "text/plain": [
       "(-0.5, 228.5, 206.5, -0.5)"
      ]
     },
     "execution_count": 12,
     "metadata": {},
     "output_type": "execute_result"
    },
    {
     "data": {
      "image/png": "[encoded data removed]",
      "text/plain": [
       "<Figure size 720x360 with 1 Axes>"
      ]
     },
     "metadata": {
      "needs_background": "light"
     },
     "output_type": "display_data"
    }
   ],
   "source": [
    "k = ia.iaintersec(a,j)\n",
    "\n",
    "(fig, axes) = plt.subplots(nrows=1, ncols=1,figsize=(10, 5))\n",
    "axes.set_title('k')\n",
    "axes.imshow(k, cmap = 'gray')\n",
    "axes.axis('off')"
   ]
  },
  {
   "cell_type": "markdown",
   "metadata": {},
   "source": [
    "## Detect nails\n",
    "\n",
    "The nails are imediatly detected by the subtration of the images of the rings and T-pints from the input image. "
   ]
  },
  {
   "cell_type": "code",
   "execution_count": 13,
   "metadata": {
    "ExecuteTime": {
     "end_time": "2019-01-06T03:42:26.064368Z",
     "start_time": "2019-01-06T03:42:25.880682Z"
    }
   },
   "outputs": [
    {
     "data": {
      "text/plain": [
       "(-0.5, 228.5, 206.5, -0.5)"
      ]
     },
     "execution_count": 13,
     "metadata": {},
     "output_type": "execute_result"
    },
    {
     "data": {
      "image/png": "[encoded data removed]",
      "text/plain": [
       "<Figure size 720x360 with 1 Axes>"
      ]
     },
     "metadata": {
      "needs_background": "light"
     },
     "output_type": "display_data"
    }
   ],
   "source": [
    "l = ia.iasubm(ia.iasubm(a,f),k)\n",
    "\n",
    "(fig, axes) = plt.subplots(nrows=1, ncols=1,figsize=(10, 5))\n",
    "axes.set_title('l')\n",
    "axes.imshow(l, cmap = 'gray')\n",
    "axes.axis('off')"
   ]
  },
  {
   "cell_type": "markdown",
   "metadata": {},
   "source": [
    "## Color composition\n",
    "\n",
    "The result of the classification is presented in a pseudo color image. "
   ]
  },
  {
   "cell_type": "code",
   "execution_count": 14,
   "metadata": {
    "ExecuteTime": {
     "end_time": "2019-01-06T03:42:26.291318Z",
     "start_time": "2019-01-06T03:42:26.068235Z"
    }
   },
   "outputs": [
    {
     "data": {
      "text/plain": [
       "(-0.5, 228.5, 206.5, -0.5)"
      ]
     },
     "execution_count": 14,
     "metadata": {},
     "output_type": "execute_result"
    },
    {
     "data": {
      "image/png": "[encoded data removed]",
      "text/plain": [
       "<Figure size 720x360 with 1 Axes>"
      ]
     },
     "metadata": {
      "needs_background": "light"
     },
     "output_type": "display_data"
    }
   ],
   "source": [
    "m = ia.iagray(f,'uint8',1);\n",
    "n = ia.iagray(k,'uint8',2);\n",
    "o = ia.iagray(l,'uint8',3);\n",
    "p = ia.iaunion(m,n,o);\n",
    "\n",
    "(fig, axes) = plt.subplots(nrows=1, ncols=1,figsize=(10, 5))\n",
    "axes.set_title('h, i')\n",
    "axes.imshow(ia.iaglblshow(p).transpose(1, 2, 0))\n",
    "axes.axis('off')"
   ]
  }
 ],
 "metadata": {
  "hide_input": false,
  "kernelspec": {
   "display_name": "Python 3",
   "language": "python",
   "name": "python3"
  },
  "language_info": {
   "codemirror_mode": {
    "name": "ipython",
    "version": 3
   },
   "file_extension": ".py",
   "mimetype": "text/x-python",
   "name": "python",
   "nbconvert_exporter": "python",
   "pygments_lexer": "ipython3",
   "version": "3.7.2"
  },
  "toc": {
   "base_numbering": 1,
   "colors": {
    "hover_highlight": "#DAA520",
    "navigate_num": "#000000",
    "navigate_text": "#333333",
    "running_highlight": "#FF0000",
    "selected_highlight": "#FFD700",
    "sidebar_border": "#EEEEEE",
    "wrapper_background": "#FFFFFF"
   },
   "moveMenuLeft": true,
   "nav_menu": {},
   "navigate_menu": true,
   "number_sections": true,
   "sideBar": true,
   "skip_h1_title": false,
   "threshold": 4,
   "title_cell": "Table of Contents",
   "title_sidebar": "Contents",
   "toc_cell": false,
   "toc_position": {},
   "toc_section_display": true,
   "toc_window_display": false,
   "widenNotebook": false
  }
 },
 "nbformat": 4,
 "nbformat_minor": 2
}
