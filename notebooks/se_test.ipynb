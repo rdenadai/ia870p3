{
 "cells": [
  {
   "cell_type": "code",
   "execution_count": 1,
   "metadata": {
    "ExecuteTime": {
     "end_time": "2018-11-15T21:21:50.173460Z",
     "start_time": "2018-11-15T21:21:49.703204Z"
    }
   },
   "outputs": [
    {
     "data": {
      "text/plain": [
       "'/home/rdenadai/.pyenv/versions/3.7.2/lib/python3.7/site-packages/ia870/__init__.py'"
      ]
     },
     "execution_count": 1,
     "metadata": {},
     "output_type": "execute_result"
    }
   ],
   "source": [
    "import numpy as np\n",
    "import ia870\n",
    "ia870.__file__"
   ]
  },
  {
   "cell_type": "code",
   "execution_count": 2,
   "metadata": {
    "ExecuteTime": {
     "end_time": "2018-11-15T21:21:50.188581Z",
     "start_time": "2018-11-15T21:21:50.179315Z"
    }
   },
   "outputs": [
    {
     "data": {
      "text/plain": [
       "array([[False,  True, False],\n",
       "       [ True,  True,  True],\n",
       "       [False,  True, False]])"
      ]
     },
     "execution_count": 2,
     "metadata": {},
     "output_type": "execute_result"
    }
   ],
   "source": [
    "Bc = ia870.iasecross(1)\n",
    "Bc"
   ]
  },
  {
   "cell_type": "code",
   "execution_count": 3,
   "metadata": {
    "ExecuteTime": {
     "end_time": "2018-11-15T21:21:50.204096Z",
     "start_time": "2018-11-15T21:21:50.192730Z"
    }
   },
   "outputs": [
    {
     "data": {
      "text/plain": [
       "array([False,  True])"
      ]
     },
     "execution_count": 3,
     "metadata": {},
     "output_type": "execute_result"
    }
   ],
   "source": [
    "ia870.ialimits(Bc)"
   ]
  },
  {
   "cell_type": "code",
   "execution_count": 4,
   "metadata": {
    "ExecuteTime": {
     "end_time": "2018-11-15T21:21:50.224348Z",
     "start_time": "2018-11-15T21:21:50.208848Z"
    }
   },
   "outputs": [
    {
     "data": {
      "text/plain": [
       "(array([1, 3, 4, 5, 7]),)"
      ]
     },
     "execution_count": 4,
     "metadata": {},
     "output_type": "execute_result"
    }
   ],
   "source": [
    "offsets = np.nonzero(np.ravel(Bc) ^ ia870.ialimits(Bc)[0])\n",
    "offsets"
   ]
  },
  {
   "cell_type": "code",
   "execution_count": 5,
   "metadata": {
    "ExecuteTime": {
     "end_time": "2018-11-15T21:21:50.244677Z",
     "start_time": "2018-11-15T21:21:50.230093Z"
    }
   },
   "outputs": [
    {
     "data": {
      "text/plain": [
       "(array([[-1,  0],\n",
       "        [ 0, -1],\n",
       "        [ 0,  0],\n",
       "        [ 0,  1],\n",
       "        [ 1,  0]]), array([ True,  True,  True,  True,  True]))"
      ]
     },
     "execution_count": 5,
     "metadata": {},
     "output_type": "execute_result"
    }
   ],
   "source": [
    "ia870.iamat2set(Bc)\n",
    "#ia870.iasetrans(Bc,(0,0))"
   ]
  },
  {
   "cell_type": "code",
   "execution_count": 6,
   "metadata": {
    "ExecuteTime": {
     "end_time": "2018-11-15T21:21:50.259049Z",
     "start_time": "2018-11-15T21:21:50.249252Z"
    }
   },
   "outputs": [
    {
     "data": {
      "text/plain": [
       "array([[False, False,  True, False, False],\n",
       "       [False,  True,  True,  True, False],\n",
       "       [ True,  True,  True,  True,  True],\n",
       "       [False,  True,  True,  True, False],\n",
       "       [False, False,  True, False, False]])"
      ]
     },
     "execution_count": 6,
     "metadata": {},
     "output_type": "execute_result"
    }
   ],
   "source": [
    "Bc = ia870.iasecross(2)\n",
    "Bc"
   ]
  },
  {
   "cell_type": "code",
   "execution_count": 7,
   "metadata": {
    "ExecuteTime": {
     "end_time": "2018-11-15T21:21:50.279405Z",
     "start_time": "2018-11-15T21:21:50.262310Z"
    }
   },
   "outputs": [
    {
     "data": {
      "text/plain": [
       "array([[ 0,  1],\n",
       "       [ 1, -1],\n",
       "       [ 1,  0],\n",
       "       [ 1,  1]])"
      ]
     },
     "execution_count": 7,
     "metadata": {},
     "output_type": "execute_result"
    }
   ],
   "source": [
    "ia870.iase2off(ia870.iasebox(),'fw')"
   ]
  },
  {
   "cell_type": "markdown",
   "metadata": {},
   "source": [
    "# 3D case for structuring element"
   ]
  },
  {
   "cell_type": "code",
   "execution_count": 8,
   "metadata": {
    "ExecuteTime": {
     "end_time": "2018-11-15T21:21:50.307065Z",
     "start_time": "2018-11-15T21:21:50.290861Z"
    }
   },
   "outputs": [
    {
     "data": {
      "text/plain": [
       "array([[[ True,  True,  True],\n",
       "        [ True,  True,  True],\n",
       "        [ True,  True,  True]],\n",
       "\n",
       "       [[ True,  True,  True],\n",
       "        [ True,  True,  True],\n",
       "        [ True,  True,  True]],\n",
       "\n",
       "       [[ True,  True,  True],\n",
       "        [ True,  True,  True],\n",
       "        [ True,  True,  True]]])"
      ]
     },
     "execution_count": 8,
     "metadata": {},
     "output_type": "execute_result"
    }
   ],
   "source": [
    "c3 = np.ones((3,3,3),dtype=bool)\n",
    "c3"
   ]
  },
  {
   "cell_type": "code",
   "execution_count": 9,
   "metadata": {
    "ExecuteTime": {
     "end_time": "2018-11-15T21:21:50.337439Z",
     "start_time": "2018-11-15T21:21:50.319073Z"
    }
   },
   "outputs": [
    {
     "data": {
      "text/plain": [
       "array([[-1, -1, -1],\n",
       "       [-1, -1,  0],\n",
       "       [-1, -1,  1],\n",
       "       [-1,  0, -1],\n",
       "       [-1,  0,  0],\n",
       "       [-1,  0,  1],\n",
       "       [-1,  1, -1],\n",
       "       [-1,  1,  0],\n",
       "       [-1,  1,  1],\n",
       "       [ 0, -1, -1],\n",
       "       [ 0, -1,  0],\n",
       "       [ 0, -1,  1],\n",
       "       [ 0,  0, -1],\n",
       "       [ 0,  0,  1],\n",
       "       [ 0,  1, -1],\n",
       "       [ 0,  1,  0],\n",
       "       [ 0,  1,  1],\n",
       "       [ 1, -1, -1],\n",
       "       [ 1, -1,  0],\n",
       "       [ 1, -1,  1],\n",
       "       [ 1,  0, -1],\n",
       "       [ 1,  0,  0],\n",
       "       [ 1,  0,  1],\n",
       "       [ 1,  1, -1],\n",
       "       [ 1,  1,  0],\n",
       "       [ 1,  1,  1]])"
      ]
     },
     "execution_count": 9,
     "metadata": {},
     "output_type": "execute_result"
    }
   ],
   "source": [
    "off = ia870.iase2off(c3)\n",
    "off"
   ]
  },
  {
   "cell_type": "code",
   "execution_count": 10,
   "metadata": {
    "ExecuteTime": {
     "end_time": "2018-11-15T21:21:50.364321Z",
     "start_time": "2018-11-15T21:21:50.345949Z"
    }
   },
   "outputs": [
    {
     "data": {
      "text/plain": [
       "array([[ 0,  0,  1],\n",
       "       [ 0,  1, -1],\n",
       "       [ 0,  1,  0],\n",
       "       [ 0,  1,  1],\n",
       "       [ 1, -1, -1],\n",
       "       [ 1, -1,  0],\n",
       "       [ 1, -1,  1],\n",
       "       [ 1,  0, -1],\n",
       "       [ 1,  0,  0],\n",
       "       [ 1,  0,  1],\n",
       "       [ 1,  1, -1],\n",
       "       [ 1,  1,  0],\n",
       "       [ 1,  1,  1]])"
      ]
     },
     "execution_count": 10,
     "metadata": {},
     "output_type": "execute_result"
    }
   ],
   "source": [
    "ia870.iase2off(c3,'fw')"
   ]
  },
  {
   "cell_type": "code",
   "execution_count": 11,
   "metadata": {},
   "outputs": [],
   "source": []
  }
 ],
 "metadata": {
  "hide_input": false,
  "kernelspec": {
   "display_name": "Python 3",
   "language": "python",
   "name": "python3"
  },
  "language_info": {
   "codemirror_mode": {
    "name": "ipython",
    "version": 3
   },
   "file_extension": ".py",
   "mimetype": "text/x-python",
   "name": "python",
   "nbconvert_exporter": "python",
   "pygments_lexer": "ipython3",
   "version": "3.7.2"
  },
  "toc": {
   "base_numbering": 1,
   "colors": {
    "hover_highlight": "#DAA520",
    "navigate_num": "#000000",
    "navigate_text": "#333333",
    "running_highlight": "#FF0000",
    "selected_highlight": "#FFD700",
    "sidebar_border": "#EEEEEE",
    "wrapper_background": "#FFFFFF"
   },
   "moveMenuLeft": true,
   "nav_menu": {},
   "navigate_menu": true,
   "number_sections": true,
   "sideBar": true,
   "skip_h1_title": false,
   "threshold": 4,
   "title_cell": "Table of Contents",
   "title_sidebar": "Contents",
   "toc_cell": false,
   "toc_position": {},
   "toc_section_display": true,
   "toc_window_display": false,
   "widenNotebook": false
  }
 },
 "nbformat": 4,
 "nbformat_minor": 2
}
